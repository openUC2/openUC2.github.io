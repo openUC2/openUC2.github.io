{
 "cells": [
  {
   "cell_type": "markdown",
   "id": "09e741be",
   "metadata": {},
   "source": [
    "# ImSwitch Jupyter Integration with extipy\n",
    "\n",
    "This notebook provides comprehensive documentation for integrating Jupyter notebooks with ImSwitch using the `extipy` package. This integration allows you to connect Jupyter Lab/Notebook to a running ImSwitch instance for live hardware control, data analysis, and debugging.\n",
    "\n",
    "⚠️ **Important Warning**: When using this integration, the ImSwitch application cannot be stopped with ordinary means (Ctrl+C) because the embedded kernel takes control of the main thread. Use this feature carefully in production environments."
   ]
  },
  {
   "cell_type": "markdown",
   "id": "37a261dd",
   "metadata": {},
   "source": [
    "## 1. Installation and Setup\n",
    "\n",
    "### Install extipy\n",
    "\n",
    "First, install the extipy package which enables connection to existing IPython kernels:"
   ]
  },
  {
   "cell_type": "code",
   "execution_count": null,
   "id": "19674ab4",
   "metadata": {},
   "outputs": [],
   "source": [
    "# Install extipy from GitHub\n",
    "!pip install git+https://github.com/ebanner/extipy.git"
   ]
  },
  {
   "cell_type": "markdown",
   "id": "6fd6ae79",
   "metadata": {},
   "source": [
    "### Alternative Installation (from source)\n",
    "\n",
    "If you prefer to install from source:"
   ]
  },
  {
   "cell_type": "code",
   "execution_count": null,
   "id": "d396ff21",
   "metadata": {},
   "outputs": [],
   "source": [
    "# Clone and install from source\n",
    "!git clone https://github.com/ebanner/extipy.git\n",
    "!cd extipy && pip install -e ."
   ]
  },
  {
   "cell_type": "markdown",
   "id": "bb2f008e",
   "metadata": {},
   "source": [
    "## 2. Starting ImSwitch with Jupyter Kernel\n",
    "\n",
    "ImSwitch now supports embedded Jupyter kernel integration through command-line flags. Here are the available options:\n",
    "\n",
    "### Command Line Flags\n",
    "\n",
    "```bash\n",
    "# Start ImSwitch with embedded Jupyter kernel\n",
    "python -m imswitch --with-kernel\n",
    "\n",
    "# Start in headless mode with kernel (recommended for server deployments)\n",
    "python -m imswitch --headless --with-kernel\n",
    "\n",
    "# Full example with all relevant flags\n",
    "python -m imswitch --headless --with-kernel \\\n",
    "    --config-file /path/to/your/config.json \\\n",
    "    --config-folder /path/to/config \\\n",
    "    --ext-data-folder /path/to/data \\\n",
    "    --http-port 8001 \\\n",
    "    --socket-port 8002\n",
    "```\n",
    "\n",
    "### Available Command Line Arguments\n",
    "\n",
    "| Flag | Description | Default |\n",
    "|------|-------------|----------|\n",
    "| `--with-kernel` | Start with embedded Jupyter kernel | False |\n",
    "| `--headless` | Run without GUI | False |\n",
    "| `--config-file` | Path to setup configuration file | None |\n",
    "| `--config-folder` | Path to config folder | None |\n",
    "| `--ext-data-folder` | Path for data storage | None |\n",
    "| `--http-port` | HTTP server port | 8001 |\n",
    "| `--socket-port` | WebSocket port | 8002 |\n",
    "| `--no-ssl` | Disable SSL | False |\n",
    "| `--scan-ext-drive-mount` | Scan for external USB drives | False |\n",
    "| `--ext-drive-mount` | External drive mount point | None |"
   ]
  },
  {
   "cell_type": "markdown",
   "id": "c54ba76b",
   "metadata": {},
   "source": [
    "## 3. Connecting Jupyter Lab to ImSwitch\n",
    "\n",
    "Once ImSwitch is running with the `--with-kernel` flag, you can connect Jupyter Lab to the embedded kernel:"
   ]
  },
  {
   "cell_type": "code",
   "execution_count": null,
   "id": "aa20543e",
   "metadata": {},
   "outputs": [],
   "source": [
    "# Start Jupyter Lab with extipy provisioner\n",
    "# Run this in a separate terminal\n",
    "!jupyter lab --KernelProvisionerFactory.default_provisioner_name=extipy-provisioner"
   ]
  },
  {
   "cell_type": "markdown",
   "id": "87ca24ca",
   "metadata": {},
   "source": [
    "### Alternative: Jupyter Notebook\n",
    "\n",
    "You can also use Jupyter Notebook instead of Jupyter Lab:"
   ]
  },
  {
   "cell_type": "code",
   "execution_count": null,
   "id": "81d23138",
   "metadata": {},
   "outputs": [],
   "source": [
    "# Start Jupyter Notebook with extipy provisioner\n",
    "!jupyter notebook --KernelProvisionerFactory.default_provisioner_name=extipy-provisioner"
   ]
  },
  {
   "cell_type": "markdown",
   "id": "65191949",
   "metadata": {},
   "source": [
    "## 4. Accessing ImSwitch Hardware Managers\n",
    "\n",
    "When connected to the ImSwitch kernel, you have direct access to all hardware managers and controllers:"
   ]
  },
  {
   "cell_type": "code",
   "execution_count": null,
   "id": "8b536ee5",
   "metadata": {},
   "outputs": [],
   "source": [
    "# Check available variables in the kernel namespace\n",
    "print(\"Available variables:\")\n",
    "for var_name in sorted(dir()):\n",
    "    if not var_name.startswith('_'):\n",
    "        print(f\"  {var_name}: {type(globals().get(var_name, 'Not found'))}\")"
   ]
  },
  {
   "cell_type": "code",
   "execution_count": null,
   "id": "7c7b4e1b",
   "metadata": {},
   "outputs": [],
   "source": [
    "# Access the master controller (main hardware interface)\n",
    "print(\"Master Controller:\", master)\n",
    "print(\"Type:\", type(master))\n",
    "\n",
    "# List available managers\n",
    "managers = [attr for attr in dir(master) if attr.endswith('Manager') and not attr.startswith('_')]\n",
    "print(\"\\nAvailable Managers:\")\n",
    "for manager in managers:\n",
    "    print(f\"  {manager}: {getattr(master, manager, 'Not available')}\")"
   ]
  },
  {
   "cell_type": "markdown",
   "id": "ea290b3c",
   "metadata": {},
   "source": [
    "## 5. Hardware Control Examples\n",
    "\n",
    "### Laser Control"
   ]
  },
  {
   "cell_type": "code",
   "execution_count": null,
   "id": "5e56e814",
   "metadata": {},
   "outputs": [],
   "source": [
    "# Check available lasers\n",
    "if 'lasersManager' in globals():\n",
    "    print(\"Available lasers:\")\n",
    "    for laser_name in lasersManager.getAllDeviceNames():\n",
    "        print(f\"  - {laser_name}\")\n",
    "        \n",
    "    # Example: Control first laser\n",
    "    laser_names = lasersManager.getAllDeviceNames()\n",
    "    if laser_names:\n",
    "        first_laser = laser_names[0]\n",
    "        print(f\"\\nControlling laser: {first_laser}\")\n",
    "        \n",
    "        # Get current power\n",
    "        current_power = lasersManager[first_laser].power\n",
    "        print(f\"Current power: {current_power}\")\n",
    "        \n",
    "        # Set new power (be careful!)\n",
    "        # lasersManager[first_laser].setPower(50)  # Uncomment to set power to 50\n",
    "        # print(f\"Power set to: {lasersManager[first_laser].power}\")\n",
    "else:\n",
    "    print(\"Lasers manager not available\")"
   ]
  },
  {
   "cell_type": "markdown",
   "id": "dc7290e2",
   "metadata": {},
   "source": [
    "### Camera/Detector Control"
   ]
  },
  {
   "cell_type": "code",
   "execution_count": null,
   "id": "684de9b1",
   "metadata": {},
   "outputs": [],
   "source": [
    "# Check available detectors/cameras\n",
    "if 'detectorsManager' in globals():\n",
    "    print(\"Available detectors:\")\n",
    "    for detector_name in detectorsManager.getAllDeviceNames():\n",
    "        print(f\"  - {detector_name}\")\n",
    "        \n",
    "    # Example: Get detector parameters\n",
    "    detector_names = detectorsManager.getAllDeviceNames()\n",
    "    if detector_names:\n",
    "        first_detector = detector_names[0]\n",
    "        print(f\"\\nDetector info: {first_detector}\")\n",
    "        \n",
    "        detector = detectorsManager[first_detector]\n",
    "        print(f\"Model: {detector.model}\")\n",
    "        print(f\"Shape: {detector.shape}\")\n",
    "        \n",
    "        # Capture an image\n",
    "        print(\"Capturing image...\")\n",
    "        image = detector.getLatestFrame()\n",
    "        print(f\"Image shape: {image.shape if image is not None else 'No image captured'}\")\n",
    "else:\n",
    "    print(\"Detectors manager not available\")"
   ]
  },
  {
   "cell_type": "markdown",
   "id": "41d09b1c",
   "metadata": {},
   "source": [
    "### Stage/Positioner Control"
   ]
  },
  {
   "cell_type": "code",
   "execution_count": null,
   "id": "e5a0be5c",
   "metadata": {},
   "outputs": [],
   "source": [
    "# Check available positioners\n",
    "if 'positionersManager' in globals():\n",
    "    print(\"Available positioners:\")\n",
    "    for positioner_name in positionersManager.getAllDeviceNames():\n",
    "        print(f\"  - {positioner_name}\")\n",
    "        \n",
    "    # Example: Get current position\n",
    "    positioner_names = positionersManager.getAllDeviceNames()\n",
    "    if positioner_names:\n",
    "        first_positioner = positioner_names[0]\n",
    "        print(f\"\\nPositioner: {first_positioner}\")\n",
    "        \n",
    "        positioner = positionersManager[first_positioner]\n",
    "        current_pos = positioner.position\n",
    "        print(f\"Current position: {current_pos}\")\n",
    "        \n",
    "        # Move relatively (be careful!)\n",
    "        # positioner.move(value=10, axis='X', is_absolute=False, is_blocking=True)\n",
    "        # print(f\"New position: {positioner.position}\")\n",
    "else:\n",
    "    print(\"Positioners manager not available\")"
   ]
  },
  {
   "cell_type": "markdown",
   "id": "0eb9daff",
   "metadata": {},
   "source": [
    "## 6. Data Analysis and Visualization\n",
    "\n",
    "You can perform real-time data analysis and visualization:"
   ]
  },
  {
   "cell_type": "code",
   "execution_count": null,
   "id": "5b4fb270",
   "metadata": {},
   "outputs": [],
   "source": [
    "import numpy as np\n",
    "import matplotlib.pyplot as plt\n",
    "\n",
    "# Example: Capture and analyze an image\n",
    "if 'detectorsManager' in globals():\n",
    "    detector_names = detectorsManager.getAllDeviceNames()\n",
    "    if detector_names:\n",
    "        detector = detectorsManager[detector_names[0]]\n",
    "        image = detector.getLatestFrame()\n",
    "        \n",
    "        if image is not None:\n",
    "            # Display image\n",
    "            plt.figure(figsize=(10, 8))\n",
    "            plt.subplot(2, 2, 1)\n",
    "            plt.imshow(image, cmap='gray')\n",
    "            plt.title('Latest Frame')\n",
    "            plt.colorbar()\n",
    "            \n",
    "            # Histogram\n",
    "            plt.subplot(2, 2, 2)\n",
    "            plt.hist(image.flatten(), bins=50, alpha=0.7)\n",
    "            plt.title('Intensity Histogram')\n",
    "            plt.xlabel('Intensity')\n",
    "            plt.ylabel('Count')\n",
    "            \n",
    "            # Profile along center row\n",
    "            plt.subplot(2, 2, 3)\n",
    "            center_row = image[image.shape[0]//2, :]\n",
    "            plt.plot(center_row)\n",
    "            plt.title('Center Row Profile')\n",
    "            plt.xlabel('Pixel')\n",
    "            plt.ylabel('Intensity')\n",
    "            \n",
    "            # Profile along center column\n",
    "            plt.subplot(2, 2, 4)\n",
    "            center_col = image[:, image.shape[1]//2]\n",
    "            plt.plot(center_col)\n",
    "            plt.title('Center Column Profile')\n",
    "            plt.xlabel('Pixel')\n",
    "            plt.ylabel('Intensity')\n",
    "            \n",
    "            plt.tight_layout()\n",
    "            plt.show()\n",
    "            \n",
    "            # Print statistics\n",
    "            print(f\"Image statistics:\")\n",
    "            print(f\"  Shape: {image.shape}\")\n",
    "            print(f\"  Min: {np.min(image)}\")\n",
    "            print(f\"  Max: {np.max(image)}\")\n",
    "            print(f\"  Mean: {np.mean(image):.2f}\")\n",
    "            print(f\"  Std: {np.std(image):.2f}\")\n",
    "else:\n",
    "    print(\"No detector available for analysis\")"
   ]
  },
  {
   "cell_type": "markdown",
   "id": "59ac2f3e",
   "metadata": {},
   "source": [
    "## 7. Advanced: Recording and Automation"
   ]
  },
  {
   "cell_type": "code",
   "execution_count": null,
   "id": "fb0c6e94",
   "metadata": {},
   "outputs": [],
   "source": [
    "# Example: Automated data collection\n",
    "if 'recordingManager' in globals():\n",
    "    print(\"Recording Manager available\")\n",
    "    print(f\"Recording status: {recordingManager}\")\n",
    "    \n",
    "    # Example: Start/stop recording\n",
    "    # recordingManager.startRecording()  # Uncomment to start recording\n",
    "    # time.sleep(5)  # Record for 5 seconds\n",
    "    # recordingManager.stopRecording()  # Uncomment to stop recording\n",
    "else:\n",
    "    print(\"Recording manager not available\")"
   ]
  },
  {
   "cell_type": "markdown",
   "id": "4b88615c",
   "metadata": {},
   "source": [
    "## 8. Debugging and Troubleshooting\n",
    "\n",
    "### Common Issues and Solutions\n",
    "\n",
    "1. **Connection Issues**: If Jupyter Lab cannot connect to the kernel:\n",
    "   - Ensure ImSwitch is running with `--with-kernel` flag\n",
    "   - Check that extipy is properly installed\n",
    "   - Verify that no firewall is blocking the connection\n",
    "\n",
    "2. **Kernel Not Responding**: If the kernel becomes unresponsive:\n",
    "   - The ImSwitch application cannot be stopped with Ctrl+C when kernel is active\n",
    "   - You may need to force-quit the ImSwitch process\n",
    "   - Restart both ImSwitch and Jupyter Lab\n",
    "\n",
    "3. **Hardware Manager Not Available**: If managers are not accessible:\n",
    "   - Check that ImSwitch loaded the hardware configuration correctly\n",
    "   - Verify that hardware devices are connected and configured\n",
    "   - Check the ImSwitch logs for initialization errors"
   ]
  },
  {
   "cell_type": "code",
   "execution_count": null,
   "id": "58e7d4c0",
   "metadata": {},
   "outputs": [],
   "source": [
    "# Debugging: Check ImSwitch module structure\n",
    "print(\"Module Main Controllers:\")\n",
    "if 'moduleMainControllers' in globals():\n",
    "    for name, controller in moduleMainControllers.mapping.items():\n",
    "        print(f\"  {name}: {type(controller)}\")\n",
    "        \n",
    "        # If it's the imcontrol module, show more details\n",
    "        if name == 'imcontrol':\n",
    "            master_ctrl = controller._ImConMainController__masterController\n",
    "            print(f\"    Master Controller: {type(master_ctrl)}\")\n",
    "            \n",
    "            # List all managers\n",
    "            for attr_name in dir(master_ctrl):\n",
    "                if attr_name.endswith('Manager') and not attr_name.startswith('_'):\n",
    "                    manager = getattr(master_ctrl, attr_name)\n",
    "                    print(f\"    {attr_name}: {type(manager)}\")\n",
    "else:\n",
    "    print(\"moduleMainControllers not available\")"
   ]
  },
  {
   "cell_type": "code",
   "execution_count": null,
   "id": "fabe89b2",
   "metadata": {},
   "outputs": [],
   "source": [
    "# Debugging: Check kernel connection info\n",
    "import json\n",
    "import glob\n",
    "import subprocess\n",
    "\n",
    "# Find Jupyter runtime directory\n",
    "try:\n",
    "    result = subprocess.run(['jupyter', '--runtime-dir'], \n",
    "                          capture_output=True, text=True, check=True)\n",
    "    runtime_dir = result.stdout.strip()\n",
    "    print(f\"Jupyter runtime directory: {runtime_dir}\")\n",
    "    \n",
    "    # List connection files\n",
    "    connection_files = glob.glob(f\"{runtime_dir}/kernel-*.json\")\n",
    "    print(f\"\\nActive kernel connection files:\")\n",
    "    for file in connection_files:\n",
    "        print(f\"  {file}\")\n",
    "        \n",
    "        # Show connection details for latest file\n",
    "        if file == max(connection_files, key=lambda x: x):\n",
    "            with open(file, 'r') as f:\n",
    "                conn_info = json.load(f)\n",
    "                print(f\"  Connection info: {conn_info}\")\n",
    "                \n",
    "except Exception as e:\n",
    "    print(f\"Error getting runtime info: {e}\")"
   ]
  },
  {
   "cell_type": "markdown",
   "id": "78ad2d23",
   "metadata": {},
   "source": [
    "## 9. Best Practices and Safety\n",
    "\n",
    "### Safety Considerations\n",
    "\n",
    "1. **Hardware Safety**: Always be cautious when controlling hardware remotely:\n",
    "   - Start with low power settings for lasers\n",
    "   - Make small movements for stages/positioners\n",
    "   - Monitor equipment during remote operations\n",
    "\n",
    "2. **Application Control**: Remember that the kernel integration affects application lifecycle:\n",
    "   - The application cannot be stopped normally with Ctrl+C\n",
    "   - Plan for proper shutdown procedures\n",
    "   - Use this feature primarily for development and testing\n",
    "\n",
    "3. **Network Security**: When running in headless mode:\n",
    "   - Ensure proper network security\n",
    "   - Use VPN or secure networks for remote access\n",
    "   - Consider authentication mechanisms\n",
    "\n",
    "### Performance Tips\n",
    "\n",
    "1. **Efficient Data Handling**: For large datasets:\n",
    "   - Use numpy arrays for image processing\n",
    "   - Consider data compression for storage\n",
    "   - Implement proper memory management\n",
    "\n",
    "2. **Responsive Operations**: To keep the interface responsive:\n",
    "   - Use non-blocking operations when possible\n",
    "   - Implement progress indicators for long operations\n",
    "   - Consider threading for background tasks"
   ]
  },
  {
   "cell_type": "code",
   "execution_count": null,
   "id": "f3d7c690",
   "metadata": {},
   "outputs": [],
   "source": [
    "# Example: Safe hardware operation template\n",
    "def safe_laser_operation(laser_name, target_power, max_power=100):\n",
    "    \"\"\"\n",
    "    Safely control laser power with checks and limits.\n",
    "    \n",
    "    Args:\n",
    "        laser_name: Name of the laser to control\n",
    "        target_power: Desired power setting\n",
    "        max_power: Maximum allowed power for safety\n",
    "    \"\"\"\n",
    "    if 'lasersManager' not in globals():\n",
    "        print(\"Error: Lasers manager not available\")\n",
    "        return False\n",
    "        \n",
    "    if laser_name not in lasersManager.getAllDeviceNames():\n",
    "        print(f\"Error: Laser '{laser_name}' not found\")\n",
    "        return False\n",
    "        \n",
    "    if target_power > max_power:\n",
    "        print(f\"Error: Target power {target_power} exceeds maximum {max_power}\")\n",
    "        return False\n",
    "        \n",
    "    try:\n",
    "        laser = lasersManager[laser_name]\n",
    "        current_power = laser.power\n",
    "        print(f\"Current power: {current_power}\")\n",
    "        print(f\"Setting power to: {target_power}\")\n",
    "        \n",
    "        # Uncomment to actually set power\n",
    "        # laser.setPower(target_power)\n",
    "        # new_power = laser.power\n",
    "        # print(f\"New power: {new_power}\")\n",
    "        \n",
    "        return True\n",
    "        \n",
    "    except Exception as e:\n",
    "        print(f\"Error controlling laser: {e}\")\n",
    "        return False\n",
    "\n",
    "# Example usage (commented for safety)\n",
    "# safe_laser_operation('Laser_1', 25, max_power=50)"
   ]
  },
  {
   "cell_type": "markdown",
   "id": "1ad63124",
   "metadata": {},
   "source": [
    "## 10. Summary\n",
    "\n",
    "The ImSwitch Jupyter integration using extipy provides powerful capabilities for:\n",
    "\n",
    "- **Real-time Hardware Control**: Direct access to all ImSwitch hardware managers\n",
    "- **Live Data Analysis**: Process and visualize data as it's acquired\n",
    "- **Interactive Debugging**: Debug ImSwitch applications in real-time\n",
    "- **Automation Scripts**: Create complex experimental workflows\n",
    "- **Remote Operation**: Control equipment from Jupyter notebooks\n",
    "\n",
    "### Quick Reference Commands\n",
    "\n",
    "```bash\n",
    "# 1. Install extipy\n",
    "pip install git+https://github.com/ebanner/extipy.git\n",
    "\n",
    "# 2. Start ImSwitch with kernel\n",
    "python -m imswitch --with-kernel\n",
    "\n",
    "# 3. Start Jupyter Lab with extipy provisioner\n",
    "jupyter lab --KernelProvisionerFactory.default_provisioner_name=extipy-provisioner\n",
    "\n",
    "# 4. Connect to the running ImSwitch kernel and start experimenting!\n",
    "```\n",
    "\n",
    "Remember to always prioritize safety when controlling hardware remotely and be aware that the application lifecycle is affected by the kernel integration."
   ]
  }
 ],
 "metadata": {
  "kernelspec": {
   "display_name": "Python 3 (ipykernel)",
   "language": "python",
   "name": "python3"
  },
  "language_info": {
   "codemirror_mode": {
    "name": "ipython",
    "version": 3
   },
   "file_extension": ".py",
   "mimetype": "text/x-python",
   "name": "python",
   "nbconvert_exporter": "python",
   "pygments_lexer": "ipython3",
   "version": "3.11.10"
  }
 },
 "nbformat": 4,
 "nbformat_minor": 5
}
